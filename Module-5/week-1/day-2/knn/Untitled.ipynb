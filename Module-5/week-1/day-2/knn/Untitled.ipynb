{
 "cells": [
  {
   "cell_type": "code",
   "execution_count": null,
   "metadata": {},
   "outputs": [],
   "source": [
    "names1 = ['Genzeb' - 'Pets2', 'Amare' - 'Rocketman', 'Seble' - 'Pets2'] 2 -3\n",
    "names2 = ['Martha' - 'Pets2', 'Ramin' - 'Rocketman', 'Cory' - 'Rocketman', 'Alison' - 'Rocketman'] x -4\n",
    "names3 = ['Scott' - 'Rocketman', 'Eddie'- 'Pets2'] 2 4 x 5\n",
    "names4 = ['Bizu' - 'Pets2', 'Mansi' - 'Pets2', 'Will' - 'Rocketman', 'Tamara' - 'Rocketman']\n",
    "names5 = ['David' - 'Pets2', 'Seth' - 'Rocketman']"
   ]
  },
  {
   "cell_type": "code",
   "execution_count": null,
   "metadata": {},
   "outputs": [],
   "source": []
  }
 ],
 "metadata": {
  "kernelspec": {
   "display_name": "learn-env",
   "language": "python",
   "name": "learn-env"
  },
  "language_info": {
   "codemirror_mode": {
    "name": "ipython",
    "version": 3
   },
   "file_extension": ".py",
   "mimetype": "text/x-python",
   "name": "python",
   "nbconvert_exporter": "python",
   "pygments_lexer": "ipython3",
   "version": "3.6.6"
  }
 },
 "nbformat": 4,
 "nbformat_minor": 2
}
