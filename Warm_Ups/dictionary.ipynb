{
 "cells": [
  {
   "cell_type": "code",
   "execution_count": 3,
   "metadata": {},
   "outputs": [],
   "source": [
    "#Given the below dictionary called dict, print each of the keys, each on their own line."
   ]
  },
  {
   "cell_type": "code",
   "execution_count": 4,
   "metadata": {},
   "outputs": [],
   "source": [
    "dict = {'color': 'blue', 'fruit': 'apple', 'pet': 'dog', 'pizza':'veggie', 'movie':'titanic', 'drink':'coffee'}"
   ]
  },
  {
   "cell_type": "code",
   "execution_count": 19,
   "metadata": {},
   "outputs": [
    {
     "name": "stdout",
     "output_type": "stream",
     "text": [
      "color\n",
      "\n",
      "fruit\n",
      "\n",
      "pet\n",
      "\n",
      "pizza\n",
      "\n",
      "movie\n",
      "\n",
      "drink\n",
      "\n"
     ]
    }
   ],
   "source": [
    "dict_lst = list(dict.keys())\n",
    "for i in dict_lst:\n",
    "    print(i + '\\n') # it can also be wretten without '\\n' "
   ]
  },
  {
   "cell_type": "code",
   "execution_count": null,
   "metadata": {},
   "outputs": [],
   "source": []
  }
 ],
 "metadata": {
  "kernelspec": {
   "display_name": "learn-env",
   "language": "python",
   "name": "learn-env"
  },
  "language_info": {
   "codemirror_mode": {
    "name": "ipython",
    "version": 3
   },
   "file_extension": ".py",
   "mimetype": "text/x-python",
   "name": "python",
   "nbconvert_exporter": "python",
   "pygments_lexer": "ipython3",
   "version": "3.6.6"
  }
 },
 "nbformat": 4,
 "nbformat_minor": 2
}
