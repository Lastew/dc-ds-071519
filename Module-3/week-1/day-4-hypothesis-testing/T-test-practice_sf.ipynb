{
 "cells": [
  {
   "cell_type": "markdown",
   "metadata": {
    "slideshow": {
     "slide_type": "slide"
    }
   },
   "source": [
    "# Hypothesis Testing"
   ]
  },
  {
   "cell_type": "markdown",
   "metadata": {
    "slideshow": {
     "slide_type": "slide"
    }
   },
   "source": [
    "## Scenarios\n",
    "\n",
    "- Chemistry - do inputs from two different barley fields produce different\n",
    "yields?\n",
    "- Astrophysics - do star systems with near-orbiting gas giants have hotter\n",
    "stars?\n",
    "- Economics - demography, surveys, etc.\n",
    "- Medicine - BMI vs. Hypertension, etc.\n",
    "- Business - which ad is more effective given engagement?"
   ]
  },
  {
   "cell_type": "markdown",
   "metadata": {
    "slideshow": {
     "slide_type": "slide"
    }
   },
   "source": [
    "![img1](./img/img1.png)"
   ]
  },
  {
   "cell_type": "markdown",
   "metadata": {
    "slideshow": {
     "slide_type": "slide"
    }
   },
   "source": [
    "![img2](./img/img2.png)"
   ]
  },
  {
   "cell_type": "markdown",
   "metadata": {
    "slideshow": {
     "slide_type": "slide"
    }
   },
   "source": [
    "### Null Hypothesis / Alternative Hypothesis Structure\n",
    "\n",
    "![img3](./img/img3.png)                  "
   ]
  },
  {
   "cell_type": "markdown",
   "metadata": {
    "slideshow": {
     "slide_type": "slide"
    }
   },
   "source": [
    "### The Null Hypothesis\n",
    "\n",
    "![gmonk](https://vignette.wikia.nocookie.net/villains/images/2/2f/Ogmork.jpg/revision/latest?cb=20120217040244) There is NOTHING, **no** difference.\n",
    "![the nothing](https://vignette.wikia.nocookie.net/theneverendingstory/images/a/a0/Bern-foster-the-neverending-story-clouds.jpg/revision/latest?cb=20160608083230)"
   ]
  },
  {
   "cell_type": "markdown",
   "metadata": {
    "slideshow": {
     "slide_type": "slide"
    }
   },
   "source": [
    "### The Alternative hypothesis\n",
    "\n",
    "![difference](./img/giphy.gif)"
   ]
  },
  {
   "cell_type": "markdown",
   "metadata": {
    "slideshow": {
     "slide_type": "slide"
    }
   },
   "source": [
    "### Error\n",
    "\n",
    "- TYPE I: False positive rate (incorrectly reject)\n",
    "- TYPE II: False negative rate (incorrectly fail to reject)"
   ]
  },
  {
   "cell_type": "markdown",
   "metadata": {
    "slideshow": {
     "slide_type": "slide"
    }
   },
   "source": [
    "### Choosing the right error rate\n",
    "\n",
    "- Alpha, α\n",
    "- Sigma, σ\n",
    "- Depends on field of study, 0.2 ≤ α ≤ 0.00001"
   ]
  },
  {
   "cell_type": "markdown",
   "metadata": {
    "slideshow": {
     "slide_type": "slide"
    }
   },
   "source": [
    "### T-test\n",
    "\n",
    "Why use it?\n",
    "- Sometimes the population standard deviation is irrelevant, and sometimes it’s\n",
    "unknown. (we’ll get to the different types of t-test later)\n",
    "- Sometimes a sample is too small to be confident that it’s an accurate representation of reality"
   ]
  },
  {
   "cell_type": "markdown",
   "metadata": {
    "slideshow": {
     "slide_type": "slide"
    }
   },
   "source": [
    "### T vs Z (again)\n",
    "\n",
    "A t-test is like a modified z-test:\n",
    "- Penalize for small sample size - “degrees of freedom”\n",
    "- Use sample std. dev. s to estimate population σ\n",
    "\n",
    "![img5](./img/img5.png)"
   ]
  },
  {
   "cell_type": "markdown",
   "metadata": {
    "slideshow": {
     "slide_type": "slide"
    }
   },
   "source": [
    "### T and Z in detail\n",
    "![img4](./img/img4.png)"
   ]
  },
  {
   "cell_type": "markdown",
   "metadata": {
    "slideshow": {
     "slide_type": "slide"
    }
   },
   "source": [
    "### T-value table\n",
    "\n",
    "![img6](./img/img6.png)"
   ]
  },
  {
   "cell_type": "markdown",
   "metadata": {
    "slideshow": {
     "slide_type": "slide"
    }
   },
   "source": [
    "### P-Values\n",
    "![picjellybeans](https://imgs.xkcd.com/comics/significant.png)"
   ]
  },
  {
   "cell_type": "markdown",
   "metadata": {
    "slideshow": {
     "slide_type": "slide"
    }
   },
   "source": [
    "### Language of Hypothesis Testing\n",
    "\n",
    "If p < α : we *reject* the null hypothesis<br>\n",
    "If p > α : we *fail to reject* the null hypothesis\n",
    "\n",
    "\n",
    "Language is **important**"
   ]
  },
  {
   "cell_type": "markdown",
   "metadata": {
    "slideshow": {
     "slide_type": "slide"
    }
   },
   "source": [
    "### What if the experiment fails?\n",
    "\n",
    "- Don’t throw out failed experiments\n",
    "- This methodology, with this data, does not produce significant results\n",
    " - More data\n",
    " - More time\n",
    " - More details"
   ]
  },
  {
   "cell_type": "markdown",
   "metadata": {
    "slideshow": {
     "slide_type": "slide"
    }
   },
   "source": [
    "### T-test success recipe\n",
    "\n",
    "Regardless of the type of t-test you are performing, there are 5 main steps to executing them:\n",
    "\n",
    "- Set up null and alternative hypotheses\n",
    "\n",
    "- Choose a significance level\n",
    "\n",
    "- Calculate the test statistic\n",
    "\n",
    "- Determine the critical or p-value (find the rejection region)\n",
    "\n",
    "- Compare t-value with critical t-value to accept or reject the Null hypothesis."
   ]
  },
  {
   "cell_type": "markdown",
   "metadata": {
    "slideshow": {
     "slide_type": "slide"
    }
   },
   "source": [
    "# Question 1\n",
    "Is this any different from population?\n",
    "- Population mean = 85\n",
    "- Sample = [90,100,110]"
   ]
  },
  {
   "cell_type": "markdown",
   "metadata": {
    "slideshow": {
     "slide_type": "slide"
    }
   },
   "source": [
    "#### Using `scipi`"
   ]
  },
  {
   "cell_type": "code",
   "execution_count": 14,
   "metadata": {},
   "outputs": [
    {
     "data": {
      "text/plain": [
       "Ttest_1sampResult(statistic=2.5980762113533156, pvalue=0.12168993434632014)"
      ]
     },
     "execution_count": 14,
     "metadata": {},
     "output_type": "execute_result"
    }
   ],
   "source": [
    "# this is my own code \n",
    "from scipy.stats import ttest_1samp\n",
    "data = [90,100,110] # the sample mean, x-bar = sum(data)/len(data)\n",
    "µ = 85 # this is a population mean\n",
    "ttest_1samp(data, µ) # since the pvalue is greater than 5% we fail to reject H0 hypotesis "
   ]
  },
  {
   "cell_type": "markdown",
   "metadata": {
    "slideshow": {
     "slide_type": "slide"
    }
   },
   "source": [
    "#### Manual implementation"
   ]
  },
  {
   "cell_type": "code",
   "execution_count": 25,
   "metadata": {},
   "outputs": [
    {
     "name": "stdout",
     "output_type": "stream",
     "text": [
      "2\n",
      "2.5980762113533156\n"
     ]
    }
   ],
   "source": [
    "# then we can calculate the t-value \n",
    "# inorder to do so \n",
    "from statistics import stdev\n",
    "\n",
    "data = [90, 100, 110] # get the sample mean, x-bar bividing the sum by the length\n",
    "x_bar = sum(data)/len(data)\n",
    "µ = 85 # this is a population mean\n",
    "s = stdev(data) # this is sample mean \n",
    "n = len(data) # this is sample size\n",
    "df = n - 1 # this is sample degree of fredom \n",
    "\n",
    "t_test = (x_bar-µ)/(s/n**0.5) # we use t_test for unkown standard divation, σ\n",
    "# z_test = (x_bar-µ)/(σ/n**0.5) # unknown population standard divation σ, so we use t_test\n",
    "\n",
    "print(df)\n",
    "print(t_test)"
   ]
  },
  {
   "cell_type": "markdown",
   "metadata": {
    "slideshow": {
     "slide_type": "slide"
    }
   },
   "source": [
    "# Question 2\n",
    "\n",
    "I'm buying jeans from store A and store B.  I know nothing about their inventory other than prices. Should I go just one store for a less expensive pair of jeans?\n",
    "I'm pretty apprehensive about this big decision so alpha = 0.10\n",
    "\n",
    "Try this both manually and with scipy\n",
    "\n",
    "- [20,30,30,50,75,25,30,30,40,80]\n",
    "- [60,30,70,90,60,40,70,40]"
   ]
  },
  {
   "cell_type": "code",
   "execution_count": 26,
   "metadata": {
    "slideshow": {
     "slide_type": "slide"
    }
   },
   "outputs": [],
   "source": [
    "store1 = [20,30,30,50,75,25,30,30,40,80] \n",
    "store2 = [60,30,70,90,60,40,70,40]\n",
    "\n",
    "from scipy.stats import ttest_ind\n"
   ]
  },
  {
   "cell_type": "code",
   "execution_count": 27,
   "metadata": {},
   "outputs": [
    {
     "data": {
      "text/plain": [
       "Ttest_indResult(statistic=-1.7120298677915535, pvalue=0.10685037968363302)"
      ]
     },
     "execution_count": 27,
     "metadata": {},
     "output_type": "execute_result"
    }
   ],
   "source": [
    "ttest_ind(store1, store2, equal_var = False) # we fail to reject H0 hypotesis"
   ]
  },
  {
   "cell_type": "code",
   "execution_count": 29,
   "metadata": {},
   "outputs": [
    {
     "name": "stdout",
     "output_type": "stream",
     "text": [
      "Ttest_indResult(statistic=0.26833823296238857, pvalue=0.788494433695651)\n",
      "Ttest_indResult(statistic=0.26833823296238857, pvalue=0.7884945274950106)\n"
     ]
    }
   ],
   "source": [
    "import numpy as np\n",
    "from scipy import stats \n",
    "np.random.seed(12345678)\n",
    "# Test with sample with identical means:\n",
    "\n",
    "rvs1 = stats.norm.rvs(loc=5,scale=10,size=500) # this creat an array of 500 values\n",
    "rvs2 = stats.norm.rvs(loc=5,scale=10,size=500)\n",
    "print(stats.ttest_ind(rvs1,rvs2))\n",
    "# (0.26833823296239279, 0.78849443369564776)\n",
    "\n",
    "print(stats.ttest_ind(rvs1,rvs2, equal_var = False))\n",
    "# (0.26833823296239279, 0.78849452749500748)"
   ]
  },
  {
   "cell_type": "code",
   "execution_count": null,
   "metadata": {},
   "outputs": [],
   "source": []
  },
  {
   "cell_type": "code",
   "execution_count": 30,
   "metadata": {
    "slideshow": {
     "slide_type": "slide"
    }
   },
   "outputs": [
    {
     "name": "stdout",
     "output_type": "stream",
     "text": [
      "4.5\n",
      "2\n"
     ]
    }
   ],
   "source": [
    "print(t)\n",
    "print(df)"
   ]
  },
  {
   "cell_type": "code",
   "execution_count": 72,
   "metadata": {
    "slideshow": {
     "slide_type": "slide"
    }
   },
   "outputs": [
    {
     "data": {
      "text/plain": [
       "array([ 10.53708189,  -9.59631993,  -7.94585139, -10.09673945,\n",
       "        20.71874901,  -4.75696191,   9.80698788,  11.25614307,\n",
       "        12.22353018,  14.10326442])"
      ]
     },
     "execution_count": 72,
     "metadata": {},
     "output_type": "execute_result"
    }
   ],
   "source": [
    "np.random.seed(12345678)\n",
    "stats.norm.rvs(loc=5, scale=10, size=10)"
   ]
  },
  {
   "cell_type": "code",
   "execution_count": 75,
   "metadata": {},
   "outputs": [
    {
     "data": {
      "text/plain": [
       "array([ 2.65451189, -4.8131382 , 17.78519151, 16.19017138, 15.63490301,\n",
       "       15.64924909, 18.12775051, 11.94768725, 22.17620133,  8.781742  ])"
      ]
     },
     "execution_count": 75,
     "metadata": {},
     "output_type": "execute_result"
    }
   ],
   "source": [
    "stats.norm.rvs(loc=5, scale=10, size=10)"
   ]
  },
  {
   "cell_type": "markdown",
   "metadata": {
    "slideshow": {
     "slide_type": "slide"
    }
   },
   "source": [
    "# Question 3\n",
    "Given the same data 1, how many more samples would you need to achieve p = 0.01, assuming sample mean and sample std. dev. do not change."
   ]
  },
  {
   "cell_type": "code",
   "execution_count": 31,
   "metadata": {
    "slideshow": {
     "slide_type": "slide"
    }
   },
   "outputs": [
    {
     "name": "stdout",
     "output_type": "stream",
     "text": [
      "2.5980762113533156\n"
     ]
    }
   ],
   "source": [
    "data = [90,100,110]\n",
    "µ = 85\n",
    "n = len(data)\n",
    "x_bar = sum(data)/len(data)\n",
    "s = stdev(data)\n",
    "df = n-1\n",
    "\n",
    "t_test = (x_bar-µ)/(s/(n**.5))\n",
    "print(t_test)"
   ]
  },
  {
   "cell_type": "code",
   "execution_count": 32,
   "metadata": {},
   "outputs": [
    {
     "name": "stdout",
     "output_type": "stream",
     "text": [
      "2 2.5980762113533156\n",
      "3 3.0\n",
      "4 3.3541019662496843\n",
      "5 3.674234614174767\n",
      "6 3.968626966596886\n",
      "7 4.242640687119286\n",
      "8 4.5\n"
     ]
    }
   ],
   "source": [
    "for n in range(3,10):\n",
    "    df = n-1\n",
    "    t_test = (x_bar-µ)/(s/(n**.5))\n",
    "    print (df,t_test)"
   ]
  },
  {
   "cell_type": "markdown",
   "metadata": {
    "slideshow": {
     "slide_type": "skip"
    }
   },
   "source": [
    "You'd need 5 degrees of freedom, n=6.  That's 3 more samples.\n",
    "the 5 degree of freedom values is close to t-table. This means we need 6 values and we only have three data points\n",
    "let's add three data points to and see the result "
   ]
  },
  {
   "cell_type": "code",
   "execution_count": 34,
   "metadata": {},
   "outputs": [
    {
     "name": "stdout",
     "output_type": "stream",
     "text": [
      "4.58257569495584\n"
     ]
    }
   ],
   "source": [
    "data1 = [90,95,100,105,110,115]\n",
    "µ1 = 85 \n",
    "n1 = len(data1)\n",
    "x_bar1 = sum(data1)/len(data1)\n",
    "s1 = stdev(data1)\n",
    "df= (n1-1)\n",
    "t_test1 = (x_bar1 - µ1)/(s1/(n1**0.5))\n",
    "print(t_test1)"
   ]
  },
  {
   "cell_type": "code",
   "execution_count": 38,
   "metadata": {},
   "outputs": [
    {
     "name": "stdout",
     "output_type": "stream",
     "text": [
      "0 1.8708286933869707\n",
      "1 2.6457513110645907\n",
      "2 3.2403703492039297\n",
      "3 3.7416573867739413\n",
      "4 4.183300132670378\n",
      "5 4.58257569495584\n",
      "6 4.949747468305833\n",
      "7 5.291502622129181\n",
      "8 5.612486080160911\n"
     ]
    }
   ],
   "source": [
    "for i in range (1,10):\n",
    "    df1 = i-1\n",
    "    t_test1 = (x_bar1-µ1)/(s1/(i**0.5))\n",
    "    print(df1, t_test1)"
   ]
  },
  {
   "cell_type": "code",
   "execution_count": 39,
   "metadata": {},
   "outputs": [
    {
     "data": {
      "text/plain": [
       "Ttest_1sampResult(statistic=4.58257569495584, pvalue=0.00593354451759226)"
      ]
     },
     "execution_count": 39,
     "metadata": {},
     "output_type": "execute_result"
    }
   ],
   "source": [
    "ttest_1samp(data1, µ1)\n",
    "# since the new calculated pvalue of 0.0059 is less then the alpha value of 0.01. we can confidently reject hypothesis zero H0"
   ]
  }
 ],
 "metadata": {
  "kernelspec": {
   "display_name": "Python 3",
   "language": "python",
   "name": "python3"
  },
  "language_info": {
   "codemirror_mode": {
    "name": "ipython",
    "version": 3
   },
   "file_extension": ".py",
   "mimetype": "text/x-python",
   "name": "python",
   "nbconvert_exporter": "python",
   "pygments_lexer": "ipython3",
   "version": "3.7.3"
  }
 },
 "nbformat": 4,
 "nbformat_minor": 2
}
