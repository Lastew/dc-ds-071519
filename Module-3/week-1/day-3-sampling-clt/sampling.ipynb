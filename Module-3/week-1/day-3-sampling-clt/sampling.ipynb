{
 "cells": [
  {
   "cell_type": "markdown",
   "metadata": {
    "slideshow": {
     "slide_type": "slide"
    }
   },
   "source": [
    "# Sampling"
   ]
  },
  {
   "cell_type": "markdown",
   "metadata": {
    "slideshow": {
     "slide_type": "slide"
    }
   },
   "source": [
    "## Population Inference"
   ]
  },
  {
   "cell_type": "markdown",
   "metadata": {
    "slideshow": {
     "slide_type": "fragment"
    }
   },
   "source": [
    "The mayor's office has hired Flatiron Data Science Immersive students to determine a way to fix traffic congestion. A good starting point is to determine out what proportion of the population of DC owns a car.\n",
    "\n",
    "In order for us to make any determinations about a population, we must first get information about it.\n",
    "\n",
    "Because it's impractical to ever usually get data about *everyone* in a population, we must take a sample.\n",
    "\n"
   ]
  },
  {
   "cell_type": "markdown",
   "metadata": {
    "slideshow": {
     "slide_type": "slide"
    }
   },
   "source": [
    "Our sample should be:\n",
    "\n",
    "* Randomly selected- every item should have an *equal* chance of being selected\n",
    "* Representative of our population\n",
    "\n",
    "![pop](./img/sample_pop.png)"
   ]
  },
  {
   "cell_type": "markdown",
   "metadata": {
    "slideshow": {
     "slide_type": "slide"
    }
   },
   "source": [
    "**Random sampling is not easy to do, let's look at an example:**\n",
    "\n",
    "Imagine you are trying to determine what proportion of DC metro area people own a car\n",
    "\n",
    "* Stand outside of Flatiron at 12 pm and ask random people until *n* responses\n",
    "\n",
    "\n",
    "* Go to a randomly assigned street corner and at a random time and ask *n* people if they own a car\n",
    "\n"
   ]
  },
  {
   "cell_type": "markdown",
   "metadata": {
    "slideshow": {
     "slide_type": "fragment"
    }
   },
   "source": [
    "When we gather a sample, we are trying to minimize the bias of our sample while also minimizing our cost."
   ]
  },
  {
   "cell_type": "markdown",
   "metadata": {
    "slideshow": {
     "slide_type": "slide"
    }
   },
   "source": [
    "##### Population v Sample Terminology\n",
    "Measurable characteristics of populations are called *parameters*\n",
    "\n",
    "Measurable characteristics of a sample are called *statistics*\n",
    "\n",
    "![imgsample](./img/sample_stats.png)"
   ]
  },
  {
   "cell_type": "markdown",
   "metadata": {
    "slideshow": {
     "slide_type": "slide"
    }
   },
   "source": [
    "## Central Limit Theorem"
   ]
  },
  {
   "cell_type": "markdown",
   "metadata": {
    "slideshow": {
     "slide_type": "slide"
    }
   },
   "source": [
    "If we take repeated samples of a population, the sampling distribution of sample means will approximate to a normal distribution! \n",
    "\n",
    "## $E(\\bar{x_{n}}) = \\mu$\n",
    "\n",
    "as n --> \"large\"\n",
    "\n",
    "[good D3 example](https://seeing-theory.brown.edu/probability-distributions/index.html)\n",
    "\n",
    "[good video demonstration](https://www.youtube.com/watch?v=jvoxEYmQHNM)\n"
   ]
  },
  {
   "cell_type": "markdown",
   "metadata": {
    "slideshow": {
     "slide_type": "slide"
    }
   },
   "source": [
    "Let's look at an example taken from the ubiquitous Iris dataset. This histogram represents the distributions of sepal length:\n",
    "\n",
    "\n",
    "![probgif](./img/probability-basics.gif)"
   ]
  },
  {
   "cell_type": "markdown",
   "metadata": {
    "slideshow": {
     "slide_type": "slide"
    }
   },
   "source": [
    "### An Example\n",
    "A bicycle advocacy group has come to us to see if it would make sense to increase the length of time users of Capital Bike Share have to ride on their bikes before they have to return them. Let's analyze a collection of Capital Bike Share data to determine if we should lengthen the time people have with their bikes."
   ]
  },
  {
   "cell_type": "code",
   "execution_count": 4,
   "metadata": {
    "slideshow": {
     "slide_type": "subslide"
    }
   },
   "outputs": [],
   "source": [
    "import pandas as pd\n",
    "import numpy as np\n",
    "import matplotlib.pyplot as plt\n",
    "%matplotlib inline\n",
    "df = pd.read_csv('data/201904-capitalbikeshare-tripdata.csv')"
   ]
  },
  {
   "cell_type": "code",
   "execution_count": 5,
   "metadata": {
    "slideshow": {
     "slide_type": "slide"
    }
   },
   "outputs": [
    {
     "data": {
      "text/html": [
       "<div>\n",
       "<style scoped>\n",
       "    .dataframe tbody tr th:only-of-type {\n",
       "        vertical-align: middle;\n",
       "    }\n",
       "\n",
       "    .dataframe tbody tr th {\n",
       "        vertical-align: top;\n",
       "    }\n",
       "\n",
       "    .dataframe thead th {\n",
       "        text-align: right;\n",
       "    }\n",
       "</style>\n",
       "<table border=\"1\" class=\"dataframe\">\n",
       "  <thead>\n",
       "    <tr style=\"text-align: right;\">\n",
       "      <th></th>\n",
       "      <th>Duration</th>\n",
       "      <th>Start date</th>\n",
       "      <th>End date</th>\n",
       "      <th>Start station number</th>\n",
       "      <th>Start station</th>\n",
       "      <th>End station number</th>\n",
       "      <th>End station</th>\n",
       "      <th>Bike number</th>\n",
       "      <th>Member type</th>\n",
       "    </tr>\n",
       "  </thead>\n",
       "  <tbody>\n",
       "    <tr>\n",
       "      <th>0</th>\n",
       "      <td>313</td>\n",
       "      <td>2019-04-01 00:03:03</td>\n",
       "      <td>2019-04-01 00:08:16</td>\n",
       "      <td>31618</td>\n",
       "      <td>4th &amp; East Capitol St NE</td>\n",
       "      <td>31630</td>\n",
       "      <td>15th &amp; East Capitol St NE</td>\n",
       "      <td>W24063</td>\n",
       "      <td>Member</td>\n",
       "    </tr>\n",
       "    <tr>\n",
       "      <th>1</th>\n",
       "      <td>453</td>\n",
       "      <td>2019-04-01 00:07:37</td>\n",
       "      <td>2019-04-01 00:15:10</td>\n",
       "      <td>31119</td>\n",
       "      <td>14th &amp; Belmont St NW</td>\n",
       "      <td>31298</td>\n",
       "      <td>15th &amp; M St NW</td>\n",
       "      <td>W22080</td>\n",
       "      <td>Member</td>\n",
       "    </tr>\n",
       "    <tr>\n",
       "      <th>2</th>\n",
       "      <td>333</td>\n",
       "      <td>2019-04-01 00:09:31</td>\n",
       "      <td>2019-04-01 00:15:05</td>\n",
       "      <td>31203</td>\n",
       "      <td>14th &amp; Rhode Island Ave NW</td>\n",
       "      <td>31519</td>\n",
       "      <td>1st &amp; O St NW</td>\n",
       "      <td>W00276</td>\n",
       "      <td>Member</td>\n",
       "    </tr>\n",
       "    <tr>\n",
       "      <th>3</th>\n",
       "      <td>568</td>\n",
       "      <td>2019-04-01 00:10:20</td>\n",
       "      <td>2019-04-01 00:19:49</td>\n",
       "      <td>31202</td>\n",
       "      <td>14th &amp; R St NW</td>\n",
       "      <td>31103</td>\n",
       "      <td>16th &amp; Harvard St NW</td>\n",
       "      <td>W21582</td>\n",
       "      <td>Member</td>\n",
       "    </tr>\n",
       "    <tr>\n",
       "      <th>4</th>\n",
       "      <td>1609</td>\n",
       "      <td>2019-04-01 00:10:38</td>\n",
       "      <td>2019-04-01 00:37:28</td>\n",
       "      <td>31517</td>\n",
       "      <td>Union Market</td>\n",
       "      <td>31655</td>\n",
       "      <td>New Jersey Ave &amp; F St NW</td>\n",
       "      <td>75558</td>\n",
       "      <td>Member</td>\n",
       "    </tr>\n",
       "  </tbody>\n",
       "</table>\n",
       "</div>"
      ],
      "text/plain": [
       "   Duration           Start date             End date  Start station number  \\\n",
       "0       313  2019-04-01 00:03:03  2019-04-01 00:08:16                 31618   \n",
       "1       453  2019-04-01 00:07:37  2019-04-01 00:15:10                 31119   \n",
       "2       333  2019-04-01 00:09:31  2019-04-01 00:15:05                 31203   \n",
       "3       568  2019-04-01 00:10:20  2019-04-01 00:19:49                 31202   \n",
       "4      1609  2019-04-01 00:10:38  2019-04-01 00:37:28                 31517   \n",
       "\n",
       "                Start station  End station number                End station  \\\n",
       "0    4th & East Capitol St NE               31630  15th & East Capitol St NE   \n",
       "1        14th & Belmont St NW               31298             15th & M St NW   \n",
       "2  14th & Rhode Island Ave NW               31519              1st & O St NW   \n",
       "3              14th & R St NW               31103       16th & Harvard St NW   \n",
       "4                Union Market               31655   New Jersey Ave & F St NW   \n",
       "\n",
       "  Bike number Member type  \n",
       "0      W24063      Member  \n",
       "1      W22080      Member  \n",
       "2      W00276      Member  \n",
       "3      W21582      Member  \n",
       "4       75558      Member  "
      ]
     },
     "execution_count": 5,
     "metadata": {},
     "output_type": "execute_result"
    }
   ],
   "source": [
    "df.head()"
   ]
  },
  {
   "cell_type": "code",
   "execution_count": 14,
   "metadata": {
    "slideshow": {
     "slide_type": "subslide"
    }
   },
   "outputs": [
    {
     "data": {
      "text/plain": [
       "0     5.216667\n",
       "1     7.550000\n",
       "2     5.550000\n",
       "3     9.466667\n",
       "4    26.816667\n",
       "Name: Duration, dtype: float64"
      ]
     },
     "execution_count": 14,
     "metadata": {},
     "output_type": "execute_result"
    }
   ],
   "source": [
    "trip_durations = df['Duration']/60\n",
    "trip_durations = trip_durations[trip_durations < 2*60]\n",
    "trip_durations.head()"
   ]
  },
  {
   "cell_type": "markdown",
   "metadata": {},
   "source": [
    "#### The length of a bike ride is not normally distributed"
   ]
  },
  {
   "cell_type": "markdown",
   "metadata": {
    "slideshow": {
     "slide_type": "slide"
    }
   },
   "source": [
    "#### Get population statistics"
   ]
  },
  {
   "cell_type": "code",
   "execution_count": 9,
   "metadata": {
    "slideshow": {
     "slide_type": "-"
    }
   },
   "outputs": [
    {
     "data": {
      "text/plain": [
       "<matplotlib.axes._subplots.AxesSubplot at 0x1166534a8>"
      ]
     },
     "execution_count": 9,
     "metadata": {},
     "output_type": "execute_result"
    },
    {
     "data": {
      "image/png": "[encoded data removed]",
      "text/plain": [
       "<Figure size 432x288 with 1 Axes>"
      ]
     },
     "metadata": {
      "needs_background": "light"
     },
     "output_type": "display_data"
    }
   ],
   "source": [
    "trip_durations.hist(bins=70)"
   ]
  },
  {
   "cell_type": "code",
   "execution_count": 10,
   "metadata": {
    "slideshow": {
     "slide_type": "-"
    }
   },
   "outputs": [
    {
     "data": {
      "text/plain": [
       "0    6.65\n",
       "dtype: float64"
      ]
     },
     "execution_count": 10,
     "metadata": {},
     "output_type": "execute_result"
    }
   ],
   "source": [
    "trip_durations.mode()"
   ]
  },
  {
   "cell_type": "code",
   "execution_count": 11,
   "metadata": {
    "scrolled": false,
    "slideshow": {
     "slide_type": "-"
    }
   },
   "outputs": [
    {
     "name": "stdout",
     "output_type": "stream",
     "text": [
      "pop_mean is 17.327975298544736 \n",
      "pop_std is 16.98829055474355\n"
     ]
    }
   ],
   "source": [
    "pop_mean = trip_durations.mean()\n",
    "pop_std = trip_durations.std()\n",
    "print('pop_mean is {} \\npop_std is {}'.format(pop_mean,pop_std))"
   ]
  },
  {
   "cell_type": "markdown",
   "metadata": {
    "slideshow": {
     "slide_type": "slide"
    }
   },
   "source": [
    "#### When we take multiple samples from the distribution, and plot the means of each sample, the shape of the curve shifts.\n",
    "\n",
    "![means](./img/meansofsamples.png)"
   ]
  },
  {
   "cell_type": "markdown",
   "metadata": {
    "slideshow": {
     "slide_type": "slide"
    }
   },
   "source": [
    "#### The number of samples drives the shape of the curve more than the sample size itself\n",
    "\n",
    "![moremeans](./img/moresamplescurve.png)"
   ]
  },
  {
   "cell_type": "markdown",
   "metadata": {
    "slideshow": {
     "slide_type": "slide"
    }
   },
   "source": [
    "**Less samples**\n",
    "![lesssamples](./img/lesssamplescurve.png)"
   ]
  },
  {
   "cell_type": "markdown",
   "metadata": {
    "slideshow": {
     "slide_type": "slide"
    }
   },
   "source": [
    "### Let's confirm with code ourselves!"
   ]
  },
  {
   "cell_type": "code",
   "execution_count": 15,
   "metadata": {
    "slideshow": {
     "slide_type": "fragment"
    }
   },
   "outputs": [],
   "source": [
    "def one_sample_mean(population):\n",
    "    sample = np.random.choice(population,size=200,replace=True)\n",
    "    return sample.mean()"
   ]
  },
  {
   "cell_type": "code",
   "execution_count": 16,
   "metadata": {},
   "outputs": [
    {
     "data": {
      "text/plain": [
       "17.93225"
      ]
     },
     "execution_count": 16,
     "metadata": {},
     "output_type": "execute_result"
    }
   ],
   "source": [
    "one_sample_mean(trip_durations)"
   ]
  },
  {
   "cell_type": "code",
   "execution_count": 17,
   "metadata": {
    "slideshow": {
     "slide_type": "slide"
    }
   },
   "outputs": [
    {
     "data": {
      "text/plain": [
       "(array([ 1.,  0.,  0.,  0.,  1.,  3.,  3.,  4.,  6.,  9.,  9., 13., 13.,\n",
       "        14., 29., 25., 34., 39., 32., 50., 54., 51., 62., 54., 50., 52.,\n",
       "        52., 37., 49., 45., 35., 34., 29., 16., 17., 10., 13., 14.,  9.,\n",
       "         8.,  8.,  4.,  2.,  2.,  2.,  2.,  1.,  0.,  1.,  2.]),\n",
       " array([13.5225    , 13.68198167, 13.84146333, 14.000945  , 14.16042667,\n",
       "        14.31990833, 14.47939   , 14.63887167, 14.79835333, 14.957835  ,\n",
       "        15.11731667, 15.27679833, 15.43628   , 15.59576167, 15.75524333,\n",
       "        15.914725  , 16.07420667, 16.23368833, 16.39317   , 16.55265167,\n",
       "        16.71213333, 16.871615  , 17.03109667, 17.19057833, 17.35006   ,\n",
       "        17.50954167, 17.66902333, 17.828505  , 17.98798667, 18.14746833,\n",
       "        18.30695   , 18.46643167, 18.62591333, 18.785395  , 18.94487667,\n",
       "        19.10435833, 19.26384   , 19.42332167, 19.58280333, 19.742285  ,\n",
       "        19.90176667, 20.06124833, 20.22073   , 20.38021167, 20.53969333,\n",
       "        20.699175  , 20.85865667, 21.01813833, 21.17762   , 21.33710167,\n",
       "        21.49658333]),\n",
       " <a list of 50 Patch objects>)"
      ]
     },
     "execution_count": 17,
     "metadata": {},
     "output_type": "execute_result"
    },
    {
     "data": {
      "image/png": "[encoded data removed]",
      "text/plain": [
       "<Figure size 432x288 with 1 Axes>"
      ]
     },
     "metadata": {
      "needs_background": "light"
     },
     "output_type": "display_data"
    }
   ],
   "source": [
    "d = [one_sample_mean(trip_durations) for i in range(1000)]\n",
    "plt.hist(d,bins=50)"
   ]
  },
  {
   "cell_type": "code",
   "execution_count": 18,
   "metadata": {
    "slideshow": {
     "slide_type": "slide"
    }
   },
   "outputs": [],
   "source": [
    "import seaborn as sns\n",
    "\n",
    "\n",
    "def central_limit_theorem_plotter(distribution,sample_size,num_samples):\n",
    "    sample_means = np.zeros(num_samples)\n",
    "    for idx,num in enumerate(range(num_samples)):\n",
    "        sample = np.random.choice(distribution,size=sample_size,replace=True)\n",
    "        sample_means[idx] = sample.mean()\n",
    "    sns.distplot(sample_means,bins=80,kde=True)\n",
    "    title = 'Sample Distribution n = {} and number of samples = {}, std error = {}'.format(sample_size,num_samples,pop_std/num_samples)\n",
    "    print('mean = {}'.format(sample_means.mean()))\n",
    "    plt.title(title)"
   ]
  },
  {
   "cell_type": "code",
   "execution_count": 19,
   "metadata": {
    "scrolled": true,
    "slideshow": {
     "slide_type": "slide"
    }
   },
   "outputs": [
    {
     "name": "stdout",
     "output_type": "stream",
     "text": [
      "mean = 17.3273286\n"
     ]
    },
    {
     "data": {
      "image/png": "[encoded data removed]",
      "text/plain": [
       "<Figure size 432x288 with 1 Axes>"
      ]
     },
     "metadata": {
      "needs_background": "light"
     },
     "output_type": "display_data"
    }
   ],
   "source": [
    "central_limit_theorem_plotter(trip_durations,20000,500)"
   ]
  },
  {
   "cell_type": "code",
   "execution_count": 25,
   "metadata": {},
   "outputs": [
    {
     "name": "stdout",
     "output_type": "stream",
     "text": [
      "mean = 17.3281185995\n"
     ]
    },
    {
     "data": {
      "image/png": "[encoded data removed]",
      "text/plain": [
       "<Figure size 432x288 with 1 Axes>"
      ]
     },
     "metadata": {
      "needs_background": "light"
     },
     "output_type": "display_data"
    }
   ],
   "source": [
    "central_limit_theorem_plotter(trip_durations,2000,50000)"
   ]
  },
  {
   "cell_type": "code",
   "execution_count": 21,
   "metadata": {},
   "outputs": [
    {
     "name": "stdout",
     "output_type": "stream",
     "text": [
      "mean = 17.248514666666665\n"
     ]
    },
    {
     "data": {
      "image/png": "[encoded data removed]",
      "text/plain": [
       "<Figure size 432x288 with 1 Axes>"
      ]
     },
     "metadata": {
      "needs_background": "light"
     },
     "output_type": "display_data"
    }
   ],
   "source": [
    "central_limit_theorem_plotter(trip_durations,200,500)"
   ]
  },
  {
   "cell_type": "code",
   "execution_count": 22,
   "metadata": {},
   "outputs": [
    {
     "name": "stdout",
     "output_type": "stream",
     "text": [
      "mean = 17.42135166666667\n"
     ]
    },
    {
     "data": {
      "image/png": "[encoded data removed]",
      "text/plain": [
       "<Figure size 432x288 with 1 Axes>"
      ]
     },
     "metadata": {
      "needs_background": "light"
     },
     "output_type": "display_data"
    }
   ],
   "source": [
    "central_limit_theorem_plotter(trip_durations,20,500)"
   ]
  },
  {
   "cell_type": "code",
   "execution_count": 23,
   "metadata": {
    "scrolled": true,
    "slideshow": {
     "slide_type": "slide"
    }
   },
   "outputs": [
    {
     "name": "stdout",
     "output_type": "stream",
     "text": [
      "mean = 17.364349999999998\n"
     ]
    },
    {
     "data": {
      "image/png": "[encoded data removed]",
      "text/plain": [
       "<Figure size 432x288 with 1 Axes>"
      ]
     },
     "metadata": {
      "needs_background": "light"
     },
     "output_type": "display_data"
    }
   ],
   "source": [
    "central_limit_theorem_plotter(trip_durations,100,50)"
   ]
  },
  {
   "cell_type": "code",
   "execution_count": null,
   "metadata": {
    "slideshow": {
     "slide_type": "slide"
    }
   },
   "outputs": [],
   "source": [
    "x = np.zeros((2,5))"
   ]
  },
  {
   "cell_type": "code",
   "execution_count": null,
   "metadata": {},
   "outputs": [],
   "source": [
    "x"
   ]
  },
  {
   "cell_type": "markdown",
   "metadata": {},
   "source": [
    "* What happens as we increase the sample size?\n",
    "* How does the height of the distribution change? Why does it change?"
   ]
  },
  {
   "cell_type": "markdown",
   "metadata": {},
   "source": [
    "https://www.kaggle.com/tentotheminus9/central-limit-theorem-animation"
   ]
  },
  {
   "cell_type": "markdown",
   "metadata": {
    "slideshow": {
     "slide_type": "slide"
    }
   },
   "source": [
    "### Show with exponential"
   ]
  },
  {
   "cell_type": "code",
   "execution_count": 26,
   "metadata": {},
   "outputs": [],
   "source": [
    "exponential = np.random.exponential(scale=1, size=1000)"
   ]
  },
  {
   "cell_type": "code",
   "execution_count": 27,
   "metadata": {
    "slideshow": {
     "slide_type": "slide"
    }
   },
   "outputs": [
    {
     "data": {
      "text/plain": [
       "(array([131., 123., 102.,  83.,  78.,  51.,  41.,  48.,  40.,  36.,  27.,\n",
       "         30.,  26.,  25.,  25.,  14.,  13.,  12.,  18.,  13.,   5.,  11.,\n",
       "          4.,   4.,   6.,   4.,   3.,   4.,   2.,   2.,   2.,   3.,   1.,\n",
       "          1.,   3.,   0.,   1.,   1.,   0.,   0.,   0.,   4.,   0.,   2.,\n",
       "          0.,   0.,   0.,   0.,   0.,   1.]),\n",
       " array([6.51238444e-04, 1.40784974e-01, 2.80918709e-01, 4.21052445e-01,\n",
       "        5.61186180e-01, 7.01319916e-01, 8.41453651e-01, 9.81587387e-01,\n",
       "        1.12172112e+00, 1.26185486e+00, 1.40198859e+00, 1.54212233e+00,\n",
       "        1.68225606e+00, 1.82238980e+00, 1.96252354e+00, 2.10265727e+00,\n",
       "        2.24279101e+00, 2.38292474e+00, 2.52305848e+00, 2.66319221e+00,\n",
       "        2.80332595e+00, 2.94345968e+00, 3.08359342e+00, 3.22372715e+00,\n",
       "        3.36386089e+00, 3.50399463e+00, 3.64412836e+00, 3.78426210e+00,\n",
       "        3.92439583e+00, 4.06452957e+00, 4.20466330e+00, 4.34479704e+00,\n",
       "        4.48493077e+00, 4.62506451e+00, 4.76519824e+00, 4.90533198e+00,\n",
       "        5.04546572e+00, 5.18559945e+00, 5.32573319e+00, 5.46586692e+00,\n",
       "        5.60600066e+00, 5.74613439e+00, 5.88626813e+00, 6.02640186e+00,\n",
       "        6.16653560e+00, 6.30666934e+00, 6.44680307e+00, 6.58693681e+00,\n",
       "        6.72707054e+00, 6.86720428e+00, 7.00733801e+00]),\n",
       " <a list of 50 Patch objects>)"
      ]
     },
     "execution_count": 27,
     "metadata": {},
     "output_type": "execute_result"
    },
    {
     "data": {
      "image/png": "[encoded data removed]",
      "text/plain": [
       "<Figure size 432x288 with 1 Axes>"
      ]
     },
     "metadata": {
      "needs_background": "light"
     },
     "output_type": "display_data"
    }
   ],
   "source": [
    "plt.hist(exponential, bins=50)"
   ]
  },
  {
   "cell_type": "code",
   "execution_count": 28,
   "metadata": {
    "slideshow": {
     "slide_type": "slide"
    }
   },
   "outputs": [
    {
     "name": "stdout",
     "output_type": "stream",
     "text": [
      "mean = 1.0345605220186396\n"
     ]
    },
    {
     "data": {
      "image/png": "[encoded data removed]",
      "text/plain": [
       "<Figure size 432x288 with 1 Axes>"
      ]
     },
     "metadata": {
      "needs_background": "light"
     },
     "output_type": "display_data"
    }
   ],
   "source": [
    "central_limit_theorem_plotter(exponential, 4000, 10000)"
   ]
  },
  {
   "cell_type": "code",
   "execution_count": 29,
   "metadata": {},
   "outputs": [
    {
     "name": "stdout",
     "output_type": "stream",
     "text": [
      "mean = 1.0345771627967832\n"
     ]
    },
    {
     "data": {
      "image/png": "[encoded data removed]",
      "text/plain": [
       "<Figure size 432x288 with 1 Axes>"
      ]
     },
     "metadata": {
      "needs_background": "light"
     },
     "output_type": "display_data"
    }
   ],
   "source": [
    "central_limit_theorem_plotter(exponential, 40000, 10000)"
   ]
  },
  {
   "cell_type": "markdown",
   "metadata": {
    "slideshow": {
     "slide_type": "slide"
    }
   },
   "source": [
    "### Standard Error of the Mean"
   ]
  },
  {
   "cell_type": "markdown",
   "metadata": {},
   "source": [
    "The standard error of the mean is the standard deviation of the sampling distribution.\n",
    "The issue is that a sample is not an exact replica of the population. We need to account for the fact that in order to make our estimate of the $\\mu$ value possible. Let's break it down:\n",
    "\n",
    "**Population sigma**\n",
    "### $\\sigma _{x} = \\frac{\\sigma }{\\sqrt{n}}$\n",
    "\n",
    "* $ \\sigma _{x}$ = standard error of $\\bar{x} $\n",
    "* $ \\sigma $ = standard deviation of population"
   ]
  },
  {
   "cell_type": "markdown",
   "metadata": {
    "slideshow": {
     "slide_type": "slide"
    }
   },
   "source": [
    "**What if we do not know the population sigma?**<br>\n",
    "If we do not know the population standard deviation, we can approximate for it by used the sample standard deviation.\n",
    "\n",
    "### $\\sigma _{x} ≈ \\frac{s}{\\sqrt{n}}$\n",
    "\n",
    "* s = sample standard deviation"
   ]
  },
  {
   "cell_type": "markdown",
   "metadata": {
    "slideshow": {
     "slide_type": "slide"
    }
   },
   "source": [
    "**Sample size impact on standard error of mean**<br>\n",
    "\n",
    "How should sample size influence standard error of the mean?\n",
    "\n",
    "It will get *smaller* as sample size *increases*\n",
    "\n",
    "![error](./img/diminishing_error.png)\n",
    "Important implication: The Standard Error of the mean remains the same as long as the population standard deviation is known and sample size remains the same.\n"
   ]
  },
  {
   "cell_type": "markdown",
   "metadata": {
    "slideshow": {
     "slide_type": "slide"
    }
   },
   "source": [
    "### Confidence Intervals"
   ]
  },
  {
   "cell_type": "markdown",
   "metadata": {
    "slideshow": {
     "slide_type": "fragment"
    }
   },
   "source": [
    "![formula](./img/margin_of_error.png)\n",
    "\n",
    "Point estimate +/- margin of error"
   ]
  },
  {
   "cell_type": "markdown",
   "metadata": {
    "slideshow": {
     "slide_type": "slide"
    }
   },
   "source": [
    "**KEY POINT** : Our level of confidence that if we obtained a sample of equal size, our sample interval would contain the population mean.\n",
    "\n",
    "**IT IS NOT** : The probability that the population mean lies within our sample interval. <-- this implies that there is an element of probability related to having the population mean within our sample. It either is or it is not."
   ]
  },
  {
   "cell_type": "markdown",
   "metadata": {
    "slideshow": {
     "slide_type": "slide"
    }
   },
   "source": [
    "#### Example 1:\n",
    "Let's construct an 80% and 95% confidence interval for one of our samples: \n",
    "\n"
   ]
  },
  {
   "cell_type": "code",
   "execution_count": 30,
   "metadata": {},
   "outputs": [],
   "source": [
    "import scipy.stats as scs\n",
    "sample = np.random.choice(trip_durations, size=200)\n",
    "sample_size = 200\n",
    "sample_mean = sample.mean()\n",
    "z_critical_upper = scs.norm.ppf(0.975)\n",
    "# z_critical_lower = scs.norm.ppf(0.025)\n",
    "margin_of_error = z_critical_upper * (pop_std/(sample_size**0.5))\n",
    "confidence_interval = (sample_mean - margin_of_error,\n",
    "                       sample_mean + margin_of_error)"
   ]
  },
  {
   "cell_type": "code",
   "execution_count": 37,
   "metadata": {},
   "outputs": [
    {
     "name": "stdout",
     "output_type": "stream",
     "text": [
      "sample mean: 17.011666666666667\n",
      "z score : 1.959963984540054\n",
      "pop std : 16.98829055474355\n",
      "confidence of interval (14.657252981768409, 19.366080351564925)\n",
      "margi of error 2.354413684898259\n"
     ]
    }
   ],
   "source": [
    "print('sample mean:', sample_mean)\n",
    "print('z score :', z_critical_upper)\n",
    "print('pop std :', pop_std)\n",
    "print('confidence of interval', confidence_interval)\n",
    "print('margi of error', margin_of_error)"
   ]
  },
  {
   "cell_type": "code",
   "execution_count": 32,
   "metadata": {},
   "outputs": [
    {
     "data": {
      "text/plain": [
       "1.959963984540054"
      ]
     },
     "execution_count": 32,
     "metadata": {},
     "output_type": "execute_result"
    }
   ],
   "source": [
    "z_critical_upper"
   ]
  },
  {
   "cell_type": "markdown",
   "metadata": {
    "slideshow": {
     "slide_type": "slide"
    }
   },
   "source": [
    "#### Example 2:\n",
    "The EPA considers indoor radon levels above 4 picocuries per liter (pCi/L) of air to be high enough to warrant amelioration efforts.  Tests in a sample of 200 Centre County Pennsylvania homes found 127 (63.5%) of these sampled households to have indoor radon levels above 4 pCi/L.  What is the population value being estimated by this sample percentage? What is the standard error of the corresponding sample proportion? What is the 95% confidence interval?\""
   ]
  },
  {
   "cell_type": "code",
   "execution_count": 41,
   "metadata": {
    "slideshow": {
     "slide_type": "slide"
    }
   },
   "outputs": [
    {
     "data": {
      "text/plain": [
       "0.016388967420951205"
      ]
     },
     "execution_count": 41,
     "metadata": {},
     "output_type": "execute_result"
    }
   ],
   "source": [
    "p = 0.635\n",
    "std_error = (p*(1-p))/(200**0.5)\n",
    "std_error"
   ]
  },
  {
   "cell_type": "code",
   "execution_count": 50,
   "metadata": {
    "slideshow": {
     "slide_type": "slide"
    }
   },
   "outputs": [
    {
     "data": {
      "text/plain": [
       "1.959963984540054"
      ]
     },
     "execution_count": 50,
     "metadata": {},
     "output_type": "execute_result"
    }
   ],
   "source": [
    "critical_value = scs.norm.ppf(0.975)\n",
    "critical_value"
   ]
  },
  {
   "cell_type": "code",
   "execution_count": 43,
   "metadata": {
    "slideshow": {
     "slide_type": "slide"
    }
   },
   "outputs": [],
   "source": [
    "margin_of_error = critical_value*std_error"
   ]
  },
  {
   "cell_type": "code",
   "execution_count": 44,
   "metadata": {
    "slideshow": {
     "slide_type": "slide"
    }
   },
   "outputs": [
    {
     "name": "stdout",
     "output_type": "stream",
     "text": [
      "(0.6028782141111354, 0.6671217858888646)\n"
     ]
    }
   ],
   "source": [
    "confidence_interval = (p - margin_of_error, p + margin_of_error)\n",
    "print(confidence_interval)"
   ]
  },
  {
   "cell_type": "markdown",
   "metadata": {
    "slideshow": {
     "slide_type": "slide"
    }
   },
   "source": [
    "## Student's T Distribution\n",
    "\n",
    "![imgguiness](./img/guiness.png)"
   ]
  },
  {
   "cell_type": "markdown",
   "metadata": {
    "slideshow": {
     "slide_type": "-"
    }
   },
   "source": [
    "We can use the normal distribution when either:\n",
    "* the population standard deviation is known\n",
    "* the sample size is greater than 100.\n",
    "\n",
    "If **neither** of those hold true, we need to use the **T-distribution**. The t-distribution is wider and has different critical values for different sample sizes.\n"
   ]
  },
  {
   "cell_type": "markdown",
   "metadata": {
    "slideshow": {
     "slide_type": "slide"
    }
   },
   "source": [
    "PDF of T-distribution: ${\\frac {\\Gamma \\left({\\frac {\\nu +1}{2}}\\right)}{{\\sqrt {\\nu \\pi }}\\,\\Gamma \\left({\\frac {\\nu }{2}}\\right)}}\\left(1+{\\frac {x^{2}}{\\nu }}\\right)^{-{\\frac {\\nu +1}{2}}}\\!$\n",
    "\n",
    "parameter: $\\nu > 0$ where $\\nu$ is degrees of freedom (n-1)"
   ]
  },
  {
   "cell_type": "markdown",
   "metadata": {},
   "source": [
    "**T distribution becomes closer to Z distribuution as n increases**\n",
    "![zvt](./img/z_vs_t.png)"
   ]
  },
  {
   "cell_type": "markdown",
   "metadata": {
    "slideshow": {
     "slide_type": "slide"
    }
   },
   "source": [
    "#### T-Distribution Example"
   ]
  },
  {
   "cell_type": "markdown",
   "metadata": {},
   "source": [
    "1. You are inspecting a hardware factory and want to construct a 90% confidence interval of acceptable screw lengths. You draw a sample of 30 screws and calculate their mean length as 4.8 centimeters and the standard deviation as 0.4 centimeters. What are the bounds of your confidence interval?\n",
    "\n"
   ]
  },
  {
   "cell_type": "code",
   "execution_count": 47,
   "metadata": {},
   "outputs": [
    {
     "data": {
      "text/plain": [
       "1.6991270265334972"
      ]
     },
     "execution_count": 47,
     "metadata": {},
     "output_type": "execute_result"
    }
   ],
   "source": [
    "import scipy.stats as scs\n",
    "n = 30\n",
    "mean = 4.8\n",
    "t_value = scs.t.ppf(0.95, n-1)\n",
    "t_value"
   ]
  },
  {
   "cell_type": "code",
   "execution_count": 48,
   "metadata": {},
   "outputs": [],
   "source": [
    "margin_error = t_value * 0.4/(n**0.5)\n",
    "confidence_interval = (mean - margin_error, mean + margin_error)"
   ]
  },
  {
   "cell_type": "code",
   "execution_count": 49,
   "metadata": {},
   "outputs": [
    {
     "data": {
      "text/plain": [
       "(4.6759133066001235, 4.924086693399876)"
      ]
     },
     "execution_count": 49,
     "metadata": {},
     "output_type": "execute_result"
    }
   ],
   "source": [
    "confidence_interval"
   ]
  },
  {
   "cell_type": "markdown",
   "metadata": {
    "slideshow": {
     "slide_type": "slide"
    }
   },
   "source": [
    "### Task\n",
    "\n",
    "Collect the formulas for the various probability distributions we reviewed earlier. <br>\n",
    "Create data based on a distribution.<br>\n",
    "Demonstrate the CLT.\n"
   ]
  },
  {
   "cell_type": "code",
   "execution_count": null,
   "metadata": {},
   "outputs": [],
   "source": []
  }
 ],
 "metadata": {
  "kernelspec": {
   "display_name": "Python 3",
   "language": "python",
   "name": "python3"
  },
  "language_info": {
   "codemirror_mode": {
    "name": "ipython",
    "version": 3
   },
   "file_extension": ".py",
   "mimetype": "text/x-python",
   "name": "python",
   "nbconvert_exporter": "python",
   "pygments_lexer": "ipython3",
   "version": "3.7.3"
  }
 },
 "nbformat": 4,
 "nbformat_minor": 2
}
