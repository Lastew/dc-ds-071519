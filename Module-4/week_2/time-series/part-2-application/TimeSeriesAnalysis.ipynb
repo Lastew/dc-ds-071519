{
 "cells": [
  {
   "cell_type": "markdown",
   "metadata": {},
   "source": [
    "# Starting Off\n",
    "\n",
    "Imagine you are a financial analyst who wants to try and predict the price of a stock (Apple for example) for the next 10 days. What pieces of information(features) whould you think woudl be helpful in trying to forecast the price of the stock?\n",
    "\n"
   ]
  },
  {
   "cell_type": "markdown",
   "metadata": {},
   "source": [
    "# Time Series Analysis: SARIMA Model\n",
    "\n",
    "## Agenda:\n",
    "- Working with time series data in pandas\n",
    "- Components of time series data\n",
    "- Stationarity\n",
    "- ACF and PACF\n",
    "- Fitting the Model\n",
    "- Evaluating the Model\n"
   ]
  },
  {
   "cell_type": "markdown",
   "metadata": {},
   "source": [
    "The methods of analysis and prediction dealing with data that is serially correlated is **Times Series Modeling**"
   ]
  },
  {
   "cell_type": "markdown",
   "metadata": {},
   "source": [
    "A time series is a sequential set of data points, measured typically over successive times. It is mathematically defined as a set of vectors $$x_t$$ $$t = 0,1,2,...$$ where $t$ represents the time\n",
    "elapsed [21, 23, 31]. The variable $x_t$ is treated as a random variable. The measurements\n",
    "taken during an event in a time series are arranged in a proper chronological order.\n",
    "\n",
    "**Regression formula**:<br>\n",
    "$$ŷ_t   =   μ + ϕ_1 y_{t-1} +…+ ϕ_p y_{t-p} - θ_1e_{t-1} -…- θ_qe_{t-q}$$"
   ]
  },
  {
   "cell_type": "markdown",
   "metadata": {},
   "source": [
    "### Steps to modeling time series data\n",
    "![steps](./resources/flowchart.png)\n",
    "\n",
    "\n",
    "[Duke ARIMA documentaion](https://people.duke.edu/~rnau/411arim.htm)"
   ]
  },
  {
   "cell_type": "code",
<<<<<<< HEAD
   "execution_count": 2,
=======
   "execution_count": null,
>>>>>>> b429dc7c85a5ad3d22ca1c74d218387082f5fe07
   "metadata": {},
   "outputs": [],
   "source": [
    "%matplotlib inline \n",
    "import pandas as pd\n",
    "import numpy as np\n",
    "import matplotlib.pyplot as plt\n",
    "import datetime\n",
    "import seaborn as sns\n",
    "import statsmodels.api as sm\n"
   ]
  },
  {
   "cell_type": "code",
<<<<<<< HEAD
   "execution_count": 3,
   "metadata": {},
   "outputs": [
    {
     "data": {
      "text/html": [
       "<div>\n",
       "<style scoped>\n",
       "    .dataframe tbody tr th:only-of-type {\n",
       "        vertical-align: middle;\n",
       "    }\n",
       "\n",
       "    .dataframe tbody tr th {\n",
       "        vertical-align: top;\n",
       "    }\n",
       "\n",
       "    .dataframe thead th {\n",
       "        text-align: right;\n",
       "    }\n",
       "</style>\n",
       "<table border=\"1\" class=\"dataframe\">\n",
       "  <thead>\n",
       "    <tr style=\"text-align: right;\">\n",
       "      <th></th>\n",
       "      <th>purchase_date</th>\n",
       "      <th>payment_amount</th>\n",
       "    </tr>\n",
       "    <tr>\n",
       "      <th>ID</th>\n",
       "      <th></th>\n",
       "      <th></th>\n",
       "    </tr>\n",
       "  </thead>\n",
       "  <tbody>\n",
       "    <tr>\n",
       "      <th>1003459795</th>\n",
       "      <td>2010-01-01 00:00:00</td>\n",
       "      <td>1779.0</td>\n",
       "    </tr>\n",
       "    <tr>\n",
       "      <th>1003462096</th>\n",
       "      <td>2010-01-03 00:00:00</td>\n",
       "      <td>2374.0</td>\n",
       "    </tr>\n",
       "    <tr>\n",
       "      <th>1003464028</th>\n",
       "      <td>2010-01-04 00:00:00</td>\n",
       "      <td>1449.0</td>\n",
       "    </tr>\n",
       "    <tr>\n",
       "      <th>1003464770</th>\n",
       "      <td>2010-01-04 00:00:00</td>\n",
       "      <td>2204.0</td>\n",
       "    </tr>\n",
       "    <tr>\n",
       "      <th>1003464895</th>\n",
       "      <td>2010-01-04 00:00:00</td>\n",
       "      <td>450.0</td>\n",
       "    </tr>\n",
       "  </tbody>\n",
       "</table>\n",
       "</div>"
      ],
      "text/plain": [
       "                  purchase_date  payment_amount\n",
       "ID                                             \n",
       "1003459795  2010-01-01 00:00:00          1779.0\n",
       "1003462096  2010-01-03 00:00:00          2374.0\n",
       "1003464028  2010-01-04 00:00:00          1449.0\n",
       "1003464770  2010-01-04 00:00:00          2204.0\n",
       "1003464895  2010-01-04 00:00:00           450.0"
      ]
     },
     "execution_count": 3,
     "metadata": {},
     "output_type": "execute_result"
    }
   ],
=======
   "execution_count": null,
   "metadata": {},
   "outputs": [],
>>>>>>> b429dc7c85a5ad3d22ca1c74d218387082f5fe07
   "source": [
    "df=pd.read_csv('./resources/Sales_Data.csv', sep='\\t', index_col=0)\n",
    "df.head()"
   ]
  },
  {
   "cell_type": "code",
<<<<<<< HEAD
   "execution_count": 4,
   "metadata": {},
   "outputs": [
    {
     "data": {
      "text/plain": [
       "purchase_date      object\n",
       "payment_amount    float64\n",
       "dtype: object"
      ]
     },
     "execution_count": 4,
     "metadata": {},
     "output_type": "execute_result"
    }
   ],
=======
   "execution_count": null,
   "metadata": {},
   "outputs": [],
>>>>>>> b429dc7c85a5ad3d22ca1c74d218387082f5fe07
   "source": [
    "df.dtypes"
   ]
  },
  {
   "cell_type": "code",
<<<<<<< HEAD
   "execution_count": 5,
=======
   "execution_count": null,
>>>>>>> b429dc7c85a5ad3d22ca1c74d218387082f5fe07
   "metadata": {},
   "outputs": [],
   "source": [
    "df['purchase_date']= pd.to_datetime(df['purchase_date']) "
   ]
  },
  {
   "cell_type": "code",
<<<<<<< HEAD
   "execution_count": 6,
   "metadata": {},
   "outputs": [
    {
     "data": {
      "text/html": [
       "<div>\n",
       "<style scoped>\n",
       "    .dataframe tbody tr th:only-of-type {\n",
       "        vertical-align: middle;\n",
       "    }\n",
       "\n",
       "    .dataframe tbody tr th {\n",
       "        vertical-align: top;\n",
       "    }\n",
       "\n",
       "    .dataframe thead th {\n",
       "        text-align: right;\n",
       "    }\n",
       "</style>\n",
       "<table border=\"1\" class=\"dataframe\">\n",
       "  <thead>\n",
       "    <tr style=\"text-align: right;\">\n",
       "      <th></th>\n",
       "      <th>purchase_date</th>\n",
       "      <th>payment_amount</th>\n",
       "    </tr>\n",
       "    <tr>\n",
       "      <th>ID</th>\n",
       "      <th></th>\n",
       "      <th></th>\n",
       "    </tr>\n",
       "  </thead>\n",
       "  <tbody>\n",
       "    <tr>\n",
       "      <th>1003459795</th>\n",
       "      <td>2010-01-01</td>\n",
       "      <td>1779.0</td>\n",
       "    </tr>\n",
       "    <tr>\n",
       "      <th>1003462096</th>\n",
       "      <td>2010-01-03</td>\n",
       "      <td>2374.0</td>\n",
       "    </tr>\n",
       "    <tr>\n",
       "      <th>1003464028</th>\n",
       "      <td>2010-01-04</td>\n",
       "      <td>1449.0</td>\n",
       "    </tr>\n",
       "    <tr>\n",
       "      <th>1003464770</th>\n",
       "      <td>2010-01-04</td>\n",
       "      <td>2204.0</td>\n",
       "    </tr>\n",
       "    <tr>\n",
       "      <th>1003464895</th>\n",
       "      <td>2010-01-04</td>\n",
       "      <td>450.0</td>\n",
       "    </tr>\n",
       "  </tbody>\n",
       "</table>\n",
       "</div>"
      ],
      "text/plain": [
       "           purchase_date  payment_amount\n",
       "ID                                      \n",
       "1003459795    2010-01-01          1779.0\n",
       "1003462096    2010-01-03          2374.0\n",
       "1003464028    2010-01-04          1449.0\n",
       "1003464770    2010-01-04          2204.0\n",
       "1003464895    2010-01-04           450.0"
      ]
     },
     "execution_count": 6,
     "metadata": {},
     "output_type": "execute_result"
    }
   ],
=======
   "execution_count": null,
   "metadata": {},
   "outputs": [],
>>>>>>> b429dc7c85a5ad3d22ca1c74d218387082f5fe07
   "source": [
    "df.head()"
   ]
  },
  {
   "cell_type": "code",
<<<<<<< HEAD
   "execution_count": 7,
   "metadata": {},
   "outputs": [
    {
     "data": {
      "text/plain": [
       "purchase_date     datetime64[ns]\n",
       "payment_amount           float64\n",
       "dtype: object"
      ]
     },
     "execution_count": 7,
     "metadata": {},
     "output_type": "execute_result"
    }
   ],
=======
   "execution_count": null,
   "metadata": {},
   "outputs": [],
>>>>>>> b429dc7c85a5ad3d22ca1c74d218387082f5fe07
   "source": [
    "df.dtypes"
   ]
  },
  {
   "cell_type": "code",
<<<<<<< HEAD
   "execution_count": 8,
=======
   "execution_count": null,
>>>>>>> b429dc7c85a5ad3d22ca1c74d218387082f5fe07
   "metadata": {},
   "outputs": [],
   "source": [
    "df = df[df['payment_amount']>100]\n"
   ]
  },
  {
   "cell_type": "code",
<<<<<<< HEAD
   "execution_count": 9,
=======
   "execution_count": null,
>>>>>>> b429dc7c85a5ad3d22ca1c74d218387082f5fe07
   "metadata": {},
   "outputs": [
    {
     "data": {
      "text/plain": [
       "pandas.core.series.Series"
      ]
     },
     "execution_count": 9,
     "metadata": {},
     "output_type": "execute_result"
    }
   ],
   "source": [
    "daily_sales = df.groupby(['purchase_date'])['payment_amount'].sum()\n",
    "type(daily_sales)"
   ]
  },
  {
   "cell_type": "code",
<<<<<<< HEAD
   "execution_count": 10,
   "metadata": {},
   "outputs": [
    {
     "data": {
      "text/plain": [
       "purchase_date\n",
       "2010-01-01      6456.0\n",
       "2010-01-02     37953.1\n",
       "2010-01-03     59445.4\n",
       "2010-01-04    142296.7\n",
       "2010-01-05    117510.4\n",
       "Name: payment_amount, dtype: float64"
      ]
     },
     "execution_count": 10,
     "metadata": {},
     "output_type": "execute_result"
    }
   ],
=======
   "execution_count": null,
   "metadata": {},
   "outputs": [],
>>>>>>> b429dc7c85a5ad3d22ca1c74d218387082f5fe07
   "source": [
    "daily_sales.head()"
   ]
  },
  {
   "cell_type": "code",
<<<<<<< HEAD
   "execution_count": 11,
   "metadata": {},
   "outputs": [
    {
     "data": {
      "text/plain": [
       "<matplotlib.axes._subplots.AxesSubplot at 0x1c2291cac8>"
      ]
     },
     "execution_count": 11,
     "metadata": {},
     "output_type": "execute_result"
    },
    {
     "data": {
      "image/png": "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\n",
      "text/plain": [
       "<Figure size 864x576 with 1 Axes>"
      ]
     },
     "metadata": {
      "needs_background": "light"
     },
     "output_type": "display_data"
    }
   ],
=======
   "execution_count": null,
   "metadata": {},
   "outputs": [],
>>>>>>> b429dc7c85a5ad3d22ca1c74d218387082f5fe07
   "source": [
    "daily_sales.plot(figsize=(12,8), title= 'Test Prep Daily Sales', fontsize=14)"
   ]
  },
  {
   "cell_type": "code",
   "execution_count": null,
   "metadata": {},
   "outputs": [],
   "source": [
    "monthly_sales=daily_sales.resample('m').sum()\n",
    "monthly_sales  = pd.DataFrame(monthly_sales, columns=['payment_amount'])\n",
    "monthly_sales.plot(figsize=(12,8), title= 'Test Prep Sales: Monthly Sales', fontsize=14)"
   ]
  },
  {
   "cell_type": "markdown",
   "metadata": {},
   "source": [
    "### Components of Time Series Data\n",
    "A time series in general is supposed to be affected by four main components, which can be separated from the observed data. These components are: *Trend, Cyclical, Seasonal and Irregular* components."
   ]
  },
  {
   "cell_type": "markdown",
   "metadata": {},
   "source": [
    "- **Trend** : The long term movement of a time series. For example, series relating to population growth, number of houses in a city etc. show upward trend.\n",
    "- **Seasonality** : Fluctuation in the data set that follow a regular pattern due to outside influences. For example sales of ice-cream increase in summer, or daily web traffic.\n",
    "- **Cyclical** : When data exhibit rises and falls that are not of fixed period.  Think of business cycles which usually last several years, but where the length of the current cycle is unknown beforehand.\n",
    "- **Irregrular**: Are caused by unpredictable influences, which are not regular and also do not repeat in a particular pattern. These variations are caused by incidences such as war, strike, earthquake, flood, revolution, etc. There is no defined statistical technique for measuring random fluctuations in a time series.\n",
    "\n",
    "\n",
    "*Note: Many people confuse cyclic behaviour with seasonal behaviour, but they are really quite different. If the fluctuations are not of fixed period then they are cyclic; if the period is unchanging and associated with some aspect of the calendar, then the pattern is seasonal.*"
   ]
  },
  {
   "cell_type": "code",
   "execution_count": null,
   "metadata": {},
   "outputs": [],
   "source": [
    "from statsmodels.tsa.seasonal import seasonal_decompose\n",
    "decomposition = seasonal_decompose(monthly_sales, freq=12)\n",
    "fig = plt.figure()\n",
    "fig = decomposition.plot()\n",
    "fig.set_size_inches(15, 8)"
   ]
  },
  {
   "cell_type": "markdown",
   "metadata": {},
   "source": [
    "Why can't we use linear regression techniques to forecast for times Seriese data?\n",
    "\n"
   ]
  },
  {
   "cell_type": "markdown",
   "metadata": {},
   "source": [
    "There are four principal assumptions which justify the use of linear regression models for purposes of inference or prediction:\n",
    "\n",
    "- Linearity and additivity of the relationship between dependent and independent variables:\n",
    "\n",
    "- Statistical independence of the errors (in particular, no correlation between consecutive errors in the case of time series data)\n",
    "\n",
    "-  Homoscedasticity (constant variance) of the errors\n",
    "\n",
    "- Normality of the error distribution."
   ]
  },
  {
   "cell_type": "markdown",
   "metadata": {},
   "source": [
    "### Statistical stationarity: \n",
    "\n",
    "A **stationary time series** is one whose statistical properties such as mean, variance, autocorrelation, etc. are all constant over time. Most statistical forecasting methods are based on the assumption that the time series can be rendered approximately stationary (i.e., \"stationarized\") through the use of mathematical transformations. A stationarized series is relatively easy to predict: you simply predict that its statistical properties will be the same in the future as they have been in the past!  "
   ]
  },
  {
   "cell_type": "markdown",
   "metadata": {},
   "source": [
    "### Visualizing Homoscedasticity:\n",
    "    \n"
   ]
  },
  {
   "cell_type": "markdown",
   "metadata": {},
   "source": [
    "#### Cosntant Mean\n",
    "\n",
    "<img src='./resources/Mean_nonstationary.png' />"
   ]
  },
  {
   "cell_type": "markdown",
   "metadata": {},
   "source": [
    "#### Constant Variance\n",
    "\n",
    "<img src='./resources/Var_nonstationary.png' />"
   ]
  },
  {
   "cell_type": "markdown",
   "metadata": {},
   "source": [
    "#### Autocovariance that does not depend on time.\n",
    "\n",
    "<img src='./resources/Cov_nonstationary.png' />"
   ]
  },
  {
   "cell_type": "markdown",
   "metadata": {},
   "source": [
    "## Two ways to check for stationarity"
   ]
  },
  {
   "cell_type": "markdown",
   "metadata": {},
   "source": [
    "1. **Plot rolling Statistics**\n",
    "\n",
    "    We can plot the moving average or moving variance and see if it varies with time. By moving average/variance I mean that at any instant ‘t’, we’ll take the average/variance of the last year, i.e. last 12 months."
   ]
  },
  {
   "cell_type": "markdown",
   "metadata": {},
   "source": [
    "2. **Dickey-Fuller Test**:\n",
    "This is one of the statistical tests for checking stationarity. Here the null hypothesis is that the TS is non-stationary. If the ‘Test Statistic’ is less than the ‘Critical Value’, we can reject the null hypothesis and say that the series is stationary."
   ]
  },
  {
   "cell_type": "code",
   "execution_count": null,
   "metadata": {},
   "outputs": [],
   "source": [
    "monthly_sales.head()"
   ]
  },
  {
   "cell_type": "markdown",
   "metadata": {},
   "source": [
    "Resources on [Dicky-Fuller Test](https://nwfsc-timeseries.github.io/atsa-labs/sec-boxjenkins-aug-dickey-fuller.html)"
   ]
  },
  {
   "cell_type": "code",
   "execution_count": null,
   "metadata": {},
   "outputs": [],
   "source": [
    "from statsmodels.tsa.stattools import adfuller\n",
    "\n",
    "#create a function that will help us to quickly \n",
    "def test_stationarity(timeseries, window):\n",
    "    \n",
    "    #Determing rolling statistics\n",
    "    rolmean = timeseries.rolling(window=window).mean()\n",
    "    rolstd = timeseries.rolling(window=window).std()\n",
    "\n",
    "    #Plot rolling statistics:\n",
    "    fig = plt.figure(figsize=(12, 8))\n",
    "    orig = plt.plot(timeseries.iloc[window:], color='blue',label='Original')\n",
    "    mean = plt.plot(rolmean, color='red', label='Rolling Mean')\n",
    "    std = plt.plot(rolstd, color='black', label = 'Rolling Std')\n",
    "    plt.legend(loc='best')\n",
    "    plt.title('Rolling Mean & Standard Deviation')\n",
    "    plt.show()\n",
    "    \n",
    "    #Perform Dickey-Fuller test:\n",
    "    print ('Results of Dickey-Fuller Test:')\n",
    "    dftest = adfuller(timeseries, autolag='AIC')\n",
    "    dfoutput = pd.Series(dftest[0:4], index=['Test Statistic','p-value','#Lags Used','Number of Observations Used'])\n",
    "    for key,value in dftest[4].items():\n",
    "        dfoutput['Critical Value (%s)'%key] = value\n",
    "    print (dfoutput)\n"
   ]
  },
  {
   "cell_type": "code",
   "execution_count": null,
   "metadata": {},
   "outputs": [],
   "source": [
    "#test the stationarity of the untransformed dataset\n",
    "test_stationarity(monthly_sales.payment_amount, 12)"
   ]
  },
  {
   "cell_type": "markdown",
   "metadata": {},
   "source": [
    "### How to Stationarize time series data"
   ]
  },
  {
   "cell_type": "markdown",
   "metadata": {},
   "source": [
    "- Log Transofrmation\n",
    "- Deflating the data\n",
    "- Differencing "
   ]
  },
  {
   "cell_type": "code",
   "execution_count": null,
   "metadata": {},
   "outputs": [],
   "source": [
    "\n",
    "monthly_sales['natural_log'] = monthly_sales.payment_amount.apply(lambda x: np.log(x))  \n",
    "test_stationarity(monthly_sales.natural_log, 12)"
   ]
  },
  {
   "cell_type": "code",
   "execution_count": null,
   "metadata": {},
   "outputs": [],
   "source": [
    "mont"
   ]
  },
  {
   "cell_type": "markdown",
   "metadata": {},
   "source": [
    "#### First Difference"
   ]
  },
  {
   "cell_type": "code",
   "execution_count": null,
   "metadata": {},
   "outputs": [],
   "source": [
    "monthly_sales['first_difference'] = monthly_sales.payment_amount - monthly_sales.payment_amount.shift(1)  \n",
    "test_stationarity(monthly_sales.first_difference.dropna(inplace=False),12)"
   ]
  },
  {
   "cell_type": "markdown",
   "metadata": {},
   "source": [
    "#### Seasonal Difference"
   ]
  },
  {
   "cell_type": "code",
   "execution_count": null,
   "metadata": {},
   "outputs": [],
   "source": [
    "monthly_sales['seasonal_difference'] = monthly_sales.payment_amount - monthly_sales.payment_amount.shift(12)  \n",
    "test_stationarity(monthly_sales.seasonal_difference.dropna(inplace=False), 12)"
   ]
  },
  {
   "cell_type": "markdown",
   "metadata": {},
   "source": [
    "#### Seasonal Difference of the First Difference"
   ]
  },
  {
   "cell_type": "code",
   "execution_count": null,
   "metadata": {},
   "outputs": [],
   "source": [
    "monthly_sales['seasonal_first_difference'] = monthly_sales.first_difference - monthly_sales.first_difference.shift(12)  \n",
    "test_stationarity(monthly_sales.seasonal_first_difference.dropna(inplace=False), 12)"
   ]
  },
  {
   "cell_type": "markdown",
   "metadata": {},
   "source": [
    "#### Season Difference of the log first difference"
   ]
  },
  {
   "cell_type": "code",
   "execution_count": null,
   "metadata": {},
   "outputs": [],
   "source": [
    "monthly_sales['log_first_difference'] = monthly_sales.natural_log - monthly_sales.natural_log.shift(1)  \n",
    "monthly_sales['log_seasonal_first_difference'] = monthly_sales.log_first_difference - monthly_sales.log_first_difference.shift(12)  \n",
    "\n",
    "test_stationarity(monthly_sales.log_first_difference.dropna(inplace=False), 12)\n"
   ]
  },
  {
   "cell_type": "markdown",
   "metadata": {},
   "source": [
    "Sometimes, we have to difference the differenced data (known as a second difference) to achieve stationary data. The number of times we have to difference our data is the order of differencing - we will use this information when building our model."
   ]
  },
  {
   "cell_type": "markdown",
   "metadata": {},
   "source": [
    "### Autoregressive Integrated Moving Average  (ARIMA)"
   ]
  },
  {
   "cell_type": "markdown",
   "metadata": {},
   "source": [
    "#### Autoregressive term\n",
    "\n",
    "If the series is stationary and autocorrelated, perhaps it can be predicted as a multiple of its own previous value, plus a constant.  The forecasting equation in this case is:\n",
    "\n",
    "\n",
    "$$Ŷt  =  μ  +  ϕ_1Y_{t-1}$$\n",
    "\n",
    "…which is Y regressed on itself lagged by one period. "
   ]
  },
  {
   "cell_type": "markdown",
   "metadata": {},
   "source": [
    "####  Moving Average term\n",
    "\n",
    "Another strategy for correcting autocorrelated errors is to use an average of the last few observations in order to filter out the noise and more accurately estimate the local mean. one of which is the so-called “error correction” form, in which the previous forecast is adjusted in the direction of the error it made:\n",
    "\n",
    "$$Ŷ_t   =  Ŷ_{t-1}  + αe_{t-1}$$  \n",
    "\n",
    "Because $e_{t-1} = Y_{t-1} - Ŷ_{t-1}$ by definition, this can be rewritten as:\n",
    "\n",
    "$$Ŷ_t   =  Y_{t-1}  - (1-α)e_{t-1}$$\n",
    "\n",
    "$$Ŷ_t =  Y_{t-1}  - θ_1e_{t-1}$$\n",
    "\n"
   ]
  },
  {
   "cell_type": "markdown",
   "metadata": {},
   "source": [
    "#### Integrated"
   ]
  },
  {
   "cell_type": "markdown",
   "metadata": {},
   "source": [
    "\n",
    "A seasonal ARIMA model is classified as an **ARIMA(p,d,q)x(P,D,Q)** model, \n",
    "\n",
    "    **p** = number of autoregressive (AR) terms \n",
    "    **d** = number of differences \n",
    "    **q** = number of moving average (MA) terms\n",
    "     \n",
    "    **P** = number of seasonal autoregressive (SAR) terms \n",
    "    **D** = number of seasonal differences \n",
    "    **Q** = number of seasonal moving average (SMA) terms"
   ]
  },
  {
   "cell_type": "markdown",
   "metadata": {},
   "source": [
    "One we have achieved stationarity the next step in fitting a model to address any autocorrelation that remains in the differenced series."
   ]
  },
  {
   "cell_type": "markdown",
   "metadata": {},
   "source": [
    "## Plot ACF/PACF charts and find optimal parameters."
   ]
  },
  {
   "cell_type": "markdown",
   "metadata": {},
   "source": [
    "### Partial autocorrelation \n",
    "\n",
    "It is the correlation between a point and particular lag without the influence of itermediary lags. This helps us see the direct relationship between certain lags."
   ]
  },
  {
   "cell_type": "markdown",
   "metadata": {},
   "source": [
    "## ACF and PACF"
   ]
  },
  {
   "cell_type": "markdown",
   "metadata": {},
   "source": [
    "#### on original data"
   ]
  },
  {
   "cell_type": "code",
   "execution_count": null,
   "metadata": {},
   "outputs": [],
   "source": [
    "fig = plt.figure(figsize=(12,8))\n",
    "ax1 = fig.add_subplot(211)\n",
    "#plot the ACF\n",
    "fig = sm.graphics.tsa.plot_acf(monthly_sales.payment_amount.iloc[1:], lags=18, ax=ax1)\n",
    "ax2 = fig.add_subplot(212)\n",
    "#plot the PACF\n",
    "fig = sm.graphics.tsa.plot_pacf(monthly_sales.payment_amount.iloc[1:], lags=18, ax=ax2)"
   ]
  },
  {
   "cell_type": "markdown",
   "metadata": {},
   "source": [
    "#### on first difference"
   ]
  },
  {
   "cell_type": "code",
   "execution_count": null,
   "metadata": {},
   "outputs": [],
   "source": [
    "fig = plt.figure(figsize=(12,8))\n",
    "ax1 = fig.add_subplot(211)\n",
    "#plot the ACF\n",
    "fig = sm.graphics.tsa.plot_acf(monthly_sales.first_difference.iloc[1:], lags=18, ax=ax1)\n",
    "ax2 = fig.add_subplot(212)\n",
    "#plot the PACF\n",
    "fig = sm.graphics.tsa.plot_pacf(monthly_sales.first_difference.iloc[1:], lags=18, ax=ax2)"
   ]
  },
  {
   "cell_type": "markdown",
   "metadata": {},
   "source": [
    "#### on seasonal first difference"
   ]
  },
  {
   "cell_type": "code",
   "execution_count": null,
   "metadata": {},
   "outputs": [],
   "source": [
    "fig = plt.figure(figsize=(12,8))\n",
    "ax1 = fig.add_subplot(211)\n",
    "#plot the ACF\n",
    "fig = sm.graphics.tsa.plot_acf(monthly_sales.seasonal_first_difference.iloc[13:], lags=24, ax=ax1)\n",
    "ax2 = fig.add_subplot(212)\n",
    "#plot the PACF\n",
    "fig = sm.graphics.tsa.plot_pacf(monthly_sales.seasonal_first_difference.iloc[13:], lags=24, ax=ax2)"
   ]
  },
  {
   "cell_type": "markdown",
   "metadata": {},
   "source": [
    "Since there is still some correlation between the times series data, we want to include terms that will account for this correlation. \n",
    "\n"
   ]
  },
  {
   "cell_type": "markdown",
   "metadata": {},
   "source": [
    "#### Determinging AR and MA terms\n",
    "\n",
    "\n",
    "What’s the best way to correct for autocorrelation: \n",
    "- adding AR terms or \n",
    "- adding MA terms?  \n",
    "\n",
    "A rule-of-thumb for this situation, which will be discussed in more detail later on, is that positive autocorrelation is usually best treated by adding an AR term to the model and negative autocorrelation is usually best treated by adding an MA term. \n"
   ]
  },
  {
   "cell_type": "markdown",
   "metadata": {},
   "source": [
    "![alt text](./resources/armaguidelines.png)"
   ]
  },
  {
   "cell_type": "markdown",
   "metadata": {},
   "source": [
    "#### Rules for Indentifying ARIMA Models\n",
    "\n",
    "https://people.duke.edu/~rnau/arimrule.htm"
   ]
  },
  {
   "cell_type": "markdown",
   "metadata": {},
   "source": [
    "## Fitting the Model"
   ]
  },
  {
   "cell_type": "markdown",
   "metadata": {},
   "source": [
    "`sm.tsa.statespace.SARIMAX()`\n",
    "[SARIMAX documentation](https://www.statsmodels.org/dev/examples/notebooks/generated/statespace_sarimax_stata.html)"
   ]
  },
  {
   "cell_type": "code",
   "execution_count": null,
   "metadata": {},
   "outputs": [],
   "source": [
    "mod = sm.tsa.statespace.SARIMAX(monthly_sales['payment_amount'], trend='n', order=(0,1,1), seasonal_order=(0,1,1,12))\n",
    "res = mod.fit()\n",
    "res.summary()"
   ]
  },
  {
   "cell_type": "markdown",
   "metadata": {},
   "source": [
    "## Evaluating a Time Series Model"
   ]
  },
  {
   "cell_type": "markdown",
   "metadata": {},
   "source": [
    "Can we use test train split when evaluating this model? "
   ]
  },
  {
   "cell_type": "markdown",
   "metadata": {},
   "source": [
    "<img src='https://people.duke.edu/~rnau/randwkf2.gif' width=700 />"
   ]
  },
  {
   "cell_type": "markdown",
   "metadata": {},
   "source": [
    "-  The data in the **estimation period** are used to help select the model and to estimate its parameters. Forecasts made in this period are not completely \"honest\" because data on both sides of each observation are used to help determine the forecast. \n",
    "\n",
    "- The data in the **validation period** are held out during parameter estimation, and if you are careful you will also withhold these values during the exploratory phase of analysis when you select your model. One-step-ahead forecasts made in this period are often called backtests. Ideally, these are \"honest\" forecasts, however, if you test a great number of models and choose the model whose errors are smallest in the validation period, you may end up overfitting the data within the validation period as well as in the estimation period.\n",
    "\n",
    "- **Forecasts into the future** are \"true\" forecasts that are made for time periods beyond the end of the available data. For a model which is purely extrapolative in nature , it is possible to extend the forecasts an arbitrary number of periods into the future by \"bootstrapping\" the model: first a one-period-ahead forecast is made, then the one-period-ahead forecast is treated as a data point and the model is cranked ahead to produce a two-period-ahead forecast, and so on as far as you wish."
   ]
  },
  {
   "cell_type": "code",
   "execution_count": null,
   "metadata": {},
   "outputs": [],
   "source": [
    "monthly_sales['forecast'] = res.predict(start = 54, end= 72, dynamic= False)  \n",
    "monthly_sales[['payment_amount', 'forecast']].plot(figsize=(16, 12)) "
   ]
  },
  {
   "cell_type": "code",
   "execution_count": null,
   "metadata": {},
   "outputs": [],
   "source": [
    "npredict =monthly_sales.payment_amount['2015'].shape[0]\n",
    "nobs = monthly_sales.payment_amount.shape[0]\n",
    "\n",
    "\n",
    "\n",
    " \n",
    "# Graph\n",
    "fig, ax = plt.subplots(figsize=(12,6))\n",
    "npre = 12\n",
    "ax.set(title='SALES', xlabel='Date', ylabel='dollars')\n",
    "ax.plot(monthly_sales.index[-npredict-npre+1:], monthly_sales.ix[-npredict-npre+1:, 'payment_amount'], 'o', label='Observed')\n",
    "ax.plot(monthly_sales.index[-npredict-npre+1:], monthly_sales.ix[-npredict-npre+1:, 'forecast'], 'g', label='Dynamic forecast')\n"
   ]
  },
  {
   "cell_type": "markdown",
   "metadata": {},
   "source": [
    "### Mean Absolute Error per prediction"
   ]
  },
  {
   "cell_type": "code",
   "execution_count": null,
   "metadata": {},
   "outputs": [],
   "source": [
    "np.abs(monthly_sales['2015']['payment_amount']- monthly_sales['2015']['forecast']).sum()/len(monthly_sales['2015'])"
   ]
  },
  {
   "cell_type": "markdown",
   "metadata": {},
   "source": [
    "## Now let's predict all of 2016\n",
    "\n",
    "In order for this to work, we need to extend our current data frame to account for the future time periods we will predict on."
   ]
  },
  {
   "cell_type": "code",
   "execution_count": null,
   "metadata": {},
   "outputs": [],
   "source": [
    "from dateutil.relativedelta import relativedelta\n",
    "\n",
    "start = datetime.datetime.strptime(\"2016-01-31\", \"%Y-%m-%d\")\n",
    "date_list = [start + relativedelta(months=x) for x in range(0,12)]\n",
    "future = pd.DataFrame(index=date_list, columns= monthly_sales.columns)\n",
    "monthly_sales = pd.concat([monthly_sales, future])"
   ]
  },
  {
   "cell_type": "code",
   "execution_count": null,
   "metadata": {},
   "outputs": [],
   "source": [
    "#res.predict)"
   ]
  },
  {
   "cell_type": "code",
   "execution_count": null,
   "metadata": {},
   "outputs": [],
   "source": [
    "monthly_sales['forecast'] = res.predict(start = 72, end = 84, dynamic= True)  \n",
    "monthly_sales[['payment_amount', 'forecast']].ix[-72:].plot(figsize=(12, 8)) \n",
    "plt.savefig('ts_predict_future.png', bbox_inches='tight')"
   ]
  },
  {
   "cell_type": "markdown",
   "metadata": {},
   "source": [
    "### Steps to modeling time series data\n",
    "![steps](./resources/flowchart.png)"
   ]
  },
  {
   "cell_type": "markdown",
   "metadata": {},
   "source": [
    "## Application practice with dataset of trasit riders in Portland"
   ]
  },
  {
   "cell_type": "code",
   "execution_count": null,
   "metadata": {},
   "outputs": [],
   "source": [
    "df = pd.read_csv('./resources/portland-oregon-average-monthly-.csv', index_col=0)\n",
    "df.index.name=None\n",
    "df.reset_index(inplace=True)\n",
    "df.drop(df.index[114], inplace=True)"
   ]
  },
  {
   "cell_type": "code",
   "execution_count": null,
   "metadata": {},
   "outputs": [],
   "source": []
  },
  {
   "cell_type": "markdown",
   "metadata": {},
   "source": [
    "### Other resources\n",
    "- [good kaggle tutorial](https://www.kaggle.com/poiupoiu/how-to-use-sarimax)\n",
    "- [standford paper](http://cs229.stanford.edu/proj2015/219_report.pdf)"
   ]
  },
  {
   "cell_type": "code",
   "execution_count": null,
   "metadata": {},
   "outputs": [],
   "source": []
  },
  {
   "cell_type": "code",
   "execution_count": null,
   "metadata": {},
   "outputs": [],
   "source": []
  }
 ],
 "metadata": {
  "kernelspec": {
   "display_name": "Python 3",
   "language": "python",
   "name": "python3"
  },
  "language_info": {
   "codemirror_mode": {
    "name": "ipython",
    "version": 3
   },
   "file_extension": ".py",
   "mimetype": "text/x-python",
   "name": "python",
   "nbconvert_exporter": "python",
   "pygments_lexer": "ipython3",
   "version": "3.7.3"
  }
 },
 "nbformat": 4,
 "nbformat_minor": 2
}
